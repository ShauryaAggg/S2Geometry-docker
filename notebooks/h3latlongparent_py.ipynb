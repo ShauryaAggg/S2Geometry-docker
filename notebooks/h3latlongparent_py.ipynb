{
 "cells": [
  {
   "cell_type": "code",
   "execution_count": 17,
   "metadata": {},
   "outputs": [
    {
     "name": "stdout",
     "output_type": "stream",
     "text": [
      "Collecting cmake==3.13.0\n",
      "  Downloading https://files.pythonhosted.org/packages/d0/07/1e130f6acd7e346a1a0aedd6297d8ecd48a67bbc63a2dcd28ae7a59b4f3a/cmake-3.13.0-cp36-cp36m-manylinux1_x86_64.whl (15.9MB)\n",
      "\u001b[K    100% |################################| 15.9MB 43kB/s eta 0:00:01  1% |                                | 276kB 4.5MB/s eta 0:00:04    38% |############                    | 6.2MB 8.1MB/s eta 0:00:02    72% |#######################         | 11.5MB 7.8MB/s eta 0:00:01\n",
      "\u001b[?25hInstalling collected packages: cmake\n",
      "Successfully installed cmake-3.13.0\n"
     ]
    }
   ],
   "source": [
    "!pip3 install cmake==3.13.0"
   ]
  },
  {
   "cell_type": "code",
   "execution_count": 3,
   "metadata": {
    "scrolled": true
   },
   "outputs": [
    {
     "name": "stdout",
     "output_type": "stream",
     "text": [
      "Requirement already satisfied: scikit-build in /usr/local/lib/python3.6/dist-packages\n",
      "Requirement already satisfied: setuptools>=28.0.0; python_version >= \"3\" in /usr/lib/python3/dist-packages (from scikit-build)\n",
      "Requirement already satisfied: packaging in /usr/local/lib/python3.6/dist-packages (from scikit-build)\n",
      "Requirement already satisfied: wheel>=0.29.0 in /usr/lib/python3/dist-packages (from scikit-build)\n",
      "Requirement already satisfied: distro in /usr/local/lib/python3.6/dist-packages (from scikit-build)\n",
      "Requirement already satisfied: pyparsing!=3.0.5,>=2.0.2 in /usr/local/lib/python3.6/dist-packages (from packaging->scikit-build)\n"
     ]
    }
   ],
   "source": [
    "!pip3 install scikit-build"
   ]
  },
  {
   "cell_type": "code",
   "execution_count": 19,
   "metadata": {
    "scrolled": true
   },
   "outputs": [
    {
     "name": "stdout",
     "output_type": "stream",
     "text": [
      "Requirement already satisfied: line_profiler in /usr/local/lib/python3.6/dist-packages\n",
      "Requirement already satisfied: memory_profiler in /usr/local/lib/python3.6/dist-packages\n",
      "Requirement already satisfied: IPython<7.17.0,>=0.13; python_version <= \"3.6\" in /usr/local/lib/python3.6/dist-packages (from line_profiler)\n",
      "Requirement already satisfied: psutil in /usr/local/lib/python3.6/dist-packages (from memory_profiler)\n",
      "Requirement already satisfied: decorator in /usr/local/lib/python3.6/dist-packages (from IPython<7.17.0,>=0.13; python_version <= \"3.6\"->line_profiler)\n",
      "Requirement already satisfied: traitlets>=4.2 in /usr/local/lib/python3.6/dist-packages (from IPython<7.17.0,>=0.13; python_version <= \"3.6\"->line_profiler)\n",
      "Requirement already satisfied: pickleshare in /usr/local/lib/python3.6/dist-packages (from IPython<7.17.0,>=0.13; python_version <= \"3.6\"->line_profiler)\n",
      "Requirement already satisfied: setuptools>=18.5 in /usr/lib/python3/dist-packages (from IPython<7.17.0,>=0.13; python_version <= \"3.6\"->line_profiler)\n",
      "Requirement already satisfied: jedi<=0.17.2,>=0.10 in /usr/local/lib/python3.6/dist-packages (from IPython<7.17.0,>=0.13; python_version <= \"3.6\"->line_profiler)\n",
      "Requirement already satisfied: backcall in /usr/local/lib/python3.6/dist-packages (from IPython<7.17.0,>=0.13; python_version <= \"3.6\"->line_profiler)\n",
      "Requirement already satisfied: pygments in /usr/local/lib/python3.6/dist-packages (from IPython<7.17.0,>=0.13; python_version <= \"3.6\"->line_profiler)\n",
      "Requirement already satisfied: pexpect; sys_platform != \"win32\" in /usr/local/lib/python3.6/dist-packages (from IPython<7.17.0,>=0.13; python_version <= \"3.6\"->line_profiler)\n",
      "Requirement already satisfied: prompt-toolkit!=3.0.0,!=3.0.1,<3.1.0,>=2.0.0 in /usr/local/lib/python3.6/dist-packages (from IPython<7.17.0,>=0.13; python_version <= \"3.6\"->line_profiler)\n",
      "Requirement already satisfied: ipython-genutils in /usr/local/lib/python3.6/dist-packages (from traitlets>=4.2->IPython<7.17.0,>=0.13; python_version <= \"3.6\"->line_profiler)\n",
      "Requirement already satisfied: six in /usr/lib/python3/dist-packages (from traitlets>=4.2->IPython<7.17.0,>=0.13; python_version <= \"3.6\"->line_profiler)\n",
      "Requirement already satisfied: parso<0.8.0,>=0.7.0 in /usr/local/lib/python3.6/dist-packages (from jedi<=0.17.2,>=0.10->IPython<7.17.0,>=0.13; python_version <= \"3.6\"->line_profiler)\n",
      "Requirement already satisfied: ptyprocess>=0.5 in /usr/local/lib/python3.6/dist-packages (from pexpect; sys_platform != \"win32\"->IPython<7.17.0,>=0.13; python_version <= \"3.6\"->line_profiler)\n",
      "Requirement already satisfied: wcwidth in /usr/local/lib/python3.6/dist-packages (from prompt-toolkit!=3.0.0,!=3.0.1,<3.1.0,>=2.0.0->IPython<7.17.0,>=0.13; python_version <= \"3.6\"->line_profiler)\n"
     ]
    }
   ],
   "source": [
    "!pip3 install line_profiler memory_profiler"
   ]
  },
  {
   "cell_type": "code",
   "execution_count": 3,
   "metadata": {
    "colab": {
     "base_uri": "https://localhost:8080/"
    },
    "id": "hUk51zbXlcrB",
    "outputId": "2a39c82b-f97e-4718-9b05-e53e34edb4c5"
   },
   "outputs": [
    {
     "name": "stdout",
     "output_type": "stream",
     "text": [
      "Collecting h3\n",
      "  Downloading h3-3.7.3-cp37-cp37m-manylinux2010_x86_64.whl (793 kB)\n",
      "\u001b[?25l\r",
      "\u001b[K     |▍                               | 10 kB 20.7 MB/s eta 0:00:01\r",
      "\u001b[K     |▉                               | 20 kB 25.2 MB/s eta 0:00:01\r",
      "\u001b[K     |█▎                              | 30 kB 30.6 MB/s eta 0:00:01\r",
      "\u001b[K     |█▋                              | 40 kB 33.6 MB/s eta 0:00:01\r",
      "\u001b[K     |██                              | 51 kB 27.3 MB/s eta 0:00:01\r",
      "\u001b[K     |██▌                             | 61 kB 29.3 MB/s eta 0:00:01\r",
      "\u001b[K     |██▉                             | 71 kB 30.6 MB/s eta 0:00:01\r",
      "\u001b[K     |███▎                            | 81 kB 24.3 MB/s eta 0:00:01\r",
      "\u001b[K     |███▊                            | 92 kB 26.1 MB/s eta 0:00:01\r",
      "\u001b[K     |████▏                           | 102 kB 27.4 MB/s eta 0:00:01\r",
      "\u001b[K     |████▌                           | 112 kB 27.4 MB/s eta 0:00:01\r",
      "\u001b[K     |█████                           | 122 kB 27.4 MB/s eta 0:00:01\r",
      "\u001b[K     |█████▍                          | 133 kB 27.4 MB/s eta 0:00:01\r",
      "\u001b[K     |█████▊                          | 143 kB 27.4 MB/s eta 0:00:01\r",
      "\u001b[K     |██████▏                         | 153 kB 27.4 MB/s eta 0:00:01\r",
      "\u001b[K     |██████▋                         | 163 kB 27.4 MB/s eta 0:00:01\r",
      "\u001b[K     |███████                         | 174 kB 27.4 MB/s eta 0:00:01\r",
      "\u001b[K     |███████▍                        | 184 kB 27.4 MB/s eta 0:00:01\r",
      "\u001b[K     |███████▉                        | 194 kB 27.4 MB/s eta 0:00:01\r",
      "\u001b[K     |████████▎                       | 204 kB 27.4 MB/s eta 0:00:01\r",
      "\u001b[K     |████████▋                       | 215 kB 27.4 MB/s eta 0:00:01\r",
      "\u001b[K     |█████████                       | 225 kB 27.4 MB/s eta 0:00:01\r",
      "\u001b[K     |█████████▌                      | 235 kB 27.4 MB/s eta 0:00:01\r",
      "\u001b[K     |██████████                      | 245 kB 27.4 MB/s eta 0:00:01\r",
      "\u001b[K     |██████████▎                     | 256 kB 27.4 MB/s eta 0:00:01\r",
      "\u001b[K     |██████████▊                     | 266 kB 27.4 MB/s eta 0:00:01\r",
      "\u001b[K     |███████████▏                    | 276 kB 27.4 MB/s eta 0:00:01\r",
      "\u001b[K     |███████████▌                    | 286 kB 27.4 MB/s eta 0:00:01\r",
      "\u001b[K     |████████████                    | 296 kB 27.4 MB/s eta 0:00:01\r",
      "\u001b[K     |████████████▍                   | 307 kB 27.4 MB/s eta 0:00:01\r",
      "\u001b[K     |████████████▉                   | 317 kB 27.4 MB/s eta 0:00:01\r",
      "\u001b[K     |█████████████▏                  | 327 kB 27.4 MB/s eta 0:00:01\r",
      "\u001b[K     |█████████████▋                  | 337 kB 27.4 MB/s eta 0:00:01\r",
      "\u001b[K     |██████████████                  | 348 kB 27.4 MB/s eta 0:00:01\r",
      "\u001b[K     |██████████████▍                 | 358 kB 27.4 MB/s eta 0:00:01\r",
      "\u001b[K     |██████████████▉                 | 368 kB 27.4 MB/s eta 0:00:01\r",
      "\u001b[K     |███████████████▎                | 378 kB 27.4 MB/s eta 0:00:01\r",
      "\u001b[K     |███████████████▊                | 389 kB 27.4 MB/s eta 0:00:01\r",
      "\u001b[K     |████████████████                | 399 kB 27.4 MB/s eta 0:00:01\r",
      "\u001b[K     |████████████████▌               | 409 kB 27.4 MB/s eta 0:00:01\r",
      "\u001b[K     |█████████████████               | 419 kB 27.4 MB/s eta 0:00:01\r",
      "\u001b[K     |█████████████████▎              | 430 kB 27.4 MB/s eta 0:00:01\r",
      "\u001b[K     |█████████████████▊              | 440 kB 27.4 MB/s eta 0:00:01\r",
      "\u001b[K     |██████████████████▏             | 450 kB 27.4 MB/s eta 0:00:01\r",
      "\u001b[K     |██████████████████▋             | 460 kB 27.4 MB/s eta 0:00:01\r",
      "\u001b[K     |███████████████████             | 471 kB 27.4 MB/s eta 0:00:01\r",
      "\u001b[K     |███████████████████▍            | 481 kB 27.4 MB/s eta 0:00:01\r",
      "\u001b[K     |███████████████████▉            | 491 kB 27.4 MB/s eta 0:00:01\r",
      "\u001b[K     |████████████████████▏           | 501 kB 27.4 MB/s eta 0:00:01\r",
      "\u001b[K     |████████████████████▋           | 512 kB 27.4 MB/s eta 0:00:01\r",
      "\u001b[K     |█████████████████████           | 522 kB 27.4 MB/s eta 0:00:01\r",
      "\u001b[K     |█████████████████████▌          | 532 kB 27.4 MB/s eta 0:00:01\r",
      "\u001b[K     |█████████████████████▉          | 542 kB 27.4 MB/s eta 0:00:01\r",
      "\u001b[K     |██████████████████████▎         | 552 kB 27.4 MB/s eta 0:00:01\r",
      "\u001b[K     |██████████████████████▊         | 563 kB 27.4 MB/s eta 0:00:01\r",
      "\u001b[K     |███████████████████████         | 573 kB 27.4 MB/s eta 0:00:01\r",
      "\u001b[K     |███████████████████████▌        | 583 kB 27.4 MB/s eta 0:00:01\r",
      "\u001b[K     |████████████████████████        | 593 kB 27.4 MB/s eta 0:00:01\r",
      "\u001b[K     |████████████████████████▍       | 604 kB 27.4 MB/s eta 0:00:01\r",
      "\u001b[K     |████████████████████████▊       | 614 kB 27.4 MB/s eta 0:00:01\r",
      "\u001b[K     |█████████████████████████▏      | 624 kB 27.4 MB/s eta 0:00:01\r",
      "\u001b[K     |█████████████████████████▋      | 634 kB 27.4 MB/s eta 0:00:01\r",
      "\u001b[K     |██████████████████████████      | 645 kB 27.4 MB/s eta 0:00:01\r",
      "\u001b[K     |██████████████████████████▍     | 655 kB 27.4 MB/s eta 0:00:01\r",
      "\u001b[K     |██████████████████████████▉     | 665 kB 27.4 MB/s eta 0:00:01\r",
      "\u001b[K     |███████████████████████████▎    | 675 kB 27.4 MB/s eta 0:00:01\r",
      "\u001b[K     |███████████████████████████▋    | 686 kB 27.4 MB/s eta 0:00:01\r",
      "\u001b[K     |████████████████████████████    | 696 kB 27.4 MB/s eta 0:00:01\r",
      "\u001b[K     |████████████████████████████▌   | 706 kB 27.4 MB/s eta 0:00:01\r",
      "\u001b[K     |████████████████████████████▉   | 716 kB 27.4 MB/s eta 0:00:01\r",
      "\u001b[K     |█████████████████████████████▎  | 727 kB 27.4 MB/s eta 0:00:01\r",
      "\u001b[K     |█████████████████████████████▊  | 737 kB 27.4 MB/s eta 0:00:01\r",
      "\u001b[K     |██████████████████████████████▏ | 747 kB 27.4 MB/s eta 0:00:01\r",
      "\u001b[K     |██████████████████████████████▌ | 757 kB 27.4 MB/s eta 0:00:01\r",
      "\u001b[K     |███████████████████████████████ | 768 kB 27.4 MB/s eta 0:00:01\r",
      "\u001b[K     |███████████████████████████████▍| 778 kB 27.4 MB/s eta 0:00:01\r",
      "\u001b[K     |███████████████████████████████▊| 788 kB 27.4 MB/s eta 0:00:01\r",
      "\u001b[K     |████████████████████████████████| 793 kB 27.4 MB/s \n",
      "\u001b[?25hInstalling collected packages: h3\n",
      "Successfully installed h3-3.7.3\n"
     ]
    }
   ],
   "source": [
    "!pip3 install h3"
   ]
  },
  {
   "cell_type": "code",
   "execution_count": 20,
   "metadata": {
    "id": "vagS3a0Dlp22"
   },
   "outputs": [],
   "source": [
    "%load_ext line_profiler\n",
    "%load_ext memory_profiler"
   ]
  },
  {
   "cell_type": "code",
   "execution_count": 41,
   "metadata": {},
   "outputs": [
    {
     "data": {
      "text/plain": [
       "'8d283082e71503f'"
      ]
     },
     "execution_count": 41,
     "metadata": {},
     "output_type": "execute_result"
    }
   ],
   "source": [
    "h3.geo_to_h3(lat, lng, min_resolution)"
   ]
  },
  {
   "cell_type": "code",
   "execution_count": 33,
   "metadata": {},
   "outputs": [
    {
     "data": {
      "text/plain": [
       "'8d283082e71503f'"
      ]
     },
     "execution_count": 33,
     "metadata": {},
     "output_type": "execute_result"
    }
   ],
   "source": [
    "h3.geo_to_h3(lat, lng, min_resolution)"
   ]
  },
  {
   "cell_type": "code",
   "execution_count": 34,
   "metadata": {
    "colab": {
     "base_uri": "https://localhost:8080/"
    },
    "id": "6jvKWM8fk9ig",
    "outputId": "ddb77912-b167-4c9f-b45d-cb1f71e30015"
   },
   "outputs": [],
   "source": [
    "import h3\n",
    "lat, lng = 37.769377, -122.388903\n",
    "min_resolution = 13\n",
    "max_resolution = 7\n",
    "\n",
    "def func():\n",
    "    h = '8d283082e71503f'\n",
    "    for i in range(min_resolution-1, max_resolution, -1):\n",
    "        parent_i = h3.h3_to_parent(h, i)"
   ]
  },
  {
   "cell_type": "code",
   "execution_count": 35,
   "metadata": {
    "id": "HnD6ZScWloUP"
   },
   "outputs": [
    {
     "name": "stdout",
     "output_type": "stream",
     "text": [
      "29.8 µs ± 191 ns per loop (mean ± std. dev. of 7 runs, 10000 loops each)\n"
     ]
    }
   ],
   "source": [
    "%timeit func()"
   ]
  },
  {
   "cell_type": "code",
   "execution_count": null,
   "metadata": {
    "id": "np8ncTrxlah9"
   },
   "outputs": [],
   "source": []
  }
 ],
 "metadata": {
  "colab": {
   "name": "h3latlongparent.py.ipynb",
   "provenance": []
  },
  "kernelspec": {
   "display_name": "Python 3",
   "language": "python",
   "name": "python3"
  },
  "language_info": {
   "codemirror_mode": {
    "name": "ipython",
    "version": 3
   },
   "file_extension": ".py",
   "mimetype": "text/x-python",
   "name": "python",
   "nbconvert_exporter": "python",
   "pygments_lexer": "ipython3",
   "version": "3.6.9"
  }
 },
 "nbformat": 4,
 "nbformat_minor": 1
}
