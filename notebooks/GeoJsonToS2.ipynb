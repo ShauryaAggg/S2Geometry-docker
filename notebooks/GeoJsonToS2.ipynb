{
 "cells": [
  {
   "cell_type": "code",
   "execution_count": 1,
   "id": "d497ff52",
   "metadata": {},
   "outputs": [],
   "source": [
    "import sys\n",
    "sys.path.append('/usr/local/lib/python3/dist-packages')"
   ]
  },
  {
   "cell_type": "code",
   "execution_count": 2,
   "id": "0aa9896f",
   "metadata": {},
   "outputs": [],
   "source": [
    "from pywraps2 import S2Point, S2Cell, S2LatLng, S2LatLngRect, S1Angle, S2Loop, S2RegionCoverer, S2Polygon, S2CellId"
   ]
  },
  {
   "cell_type": "code",
   "execution_count": 3,
   "id": "920f3158",
   "metadata": {},
   "outputs": [],
   "source": [
    "geojson = {\n",
    "  \"type\": \"FeatureCollection\",\n",
    "  \"features\": [\n",
    "    {\n",
    "      \"type\": \"Feature\",\n",
    "      \"properties\": {},\n",
    "      \"geometry\": {\n",
    "        \"type\": \"Polygon\",\n",
    "        \"coordinates\": [\n",
    "          [\n",
    "            [\n",
    "              76.201171875,\n",
    "              29.869228848968312\n",
    "            ],\n",
    "            [\n",
    "              75.69580078125,\n",
    "              28.468691297348148\n",
    "            ],\n",
    "            [\n",
    "              77.574462890625,\n",
    "              28.323724553546015\n",
    "            ],\n",
    "            [\n",
    "              77.7392578125,\n",
    "              29.35345166863502\n",
    "            ],\n",
    "            [\n",
    "              76.201171875,\n",
    "              29.869228848968312\n",
    "            ]\n",
    "          ]\n",
    "        ]\n",
    "      }\n",
    "    },\n",
    "    {\n",
    "      \"type\": \"Feature\",\n",
    "      \"properties\": {},\n",
    "      \"geometry\": {\n",
    "        \"type\": \"Polygon\",\n",
    "        \"coordinates\": [\n",
    "          [\n",
    "            [\n",
    "              71.575927734375,\n",
    "              27.430289738862594\n",
    "            ],\n",
    "            [\n",
    "              72.9052734375,\n",
    "              28.159189634046708\n",
    "            ],\n",
    "            [\n",
    "              73.17993164062499,\n",
    "              27.381523191705053\n",
    "            ],\n",
    "            [\n",
    "              71.630859375,\n",
    "              27.401032392938866\n",
    "            ],\n",
    "            [\n",
    "              72.410888671875,\n",
    "              26.500072915744372\n",
    "            ],\n",
    "            [\n",
    "              74.058837890625,\n",
    "              27.36201054924028\n",
    "            ],\n",
    "            [\n",
    "              73.5205078125,\n",
    "              28.98892237190413\n",
    "            ],\n",
    "            [\n",
    "              71.575927734375,\n",
    "              27.430289738862594\n",
    "            ]\n",
    "          ]\n",
    "        ]\n",
    "      }\n",
    "    }\n",
    "  ]\n",
    "}"
   ]
  },
  {
   "cell_type": "code",
   "execution_count": 4,
   "id": "b87335e7",
   "metadata": {},
   "outputs": [],
   "source": [
    "geojson2 = {\n",
    "  \"type\": \"FeatureCollection\",\n",
    "  \"features\": [\n",
    "    {\n",
    "      \"type\": \"Feature\",\n",
    "      \"properties\": {\n",
    "        \"stroke\": \"#555555\",\n",
    "        \"stroke-width\": 2,\n",
    "        \"stroke-opacity\": 1,\n",
    "        \"fill\": \"#555555\",\n",
    "        \"fill-opacity\": 0.5\n",
    "      },\n",
    "      \"geometry\": {\n",
    "        \"type\": \"Polygon\",\n",
    "        \"coordinates\": [\n",
    "          [\n",
    "            [\n",
    "              77.0496940612793,\n",
    "              28.45963668793731\n",
    "            ],\n",
    "            [\n",
    "              77.0635986328125,\n",
    "              28.45043037318006\n",
    "            ],\n",
    "            [\n",
    "              77.05879211425781,\n",
    "              28.44469488663175\n",
    "            ],\n",
    "            [\n",
    "              77.06789016723633,\n",
    "              28.436392973656965\n",
    "            ],\n",
    "            [\n",
    "              77.07647323608398,\n",
    "              28.446506126513928\n",
    "            ],\n",
    "            [\n",
    "              77.08677291870117,\n",
    "              28.449826652402077\n",
    "            ],\n",
    "            [\n",
    "              77.09672927856445,\n",
    "              28.450279443308684\n",
    "            ],\n",
    "            [\n",
    "              77.09587097167969,\n",
    "              28.462956801462703\n",
    "            ],\n",
    "            [\n",
    "              77.07355499267578,\n",
    "              28.45873118433063\n",
    "            ],\n",
    "            [\n",
    "              77.05767631530762,\n",
    "              28.467861323783215\n",
    "            ],\n",
    "            [\n",
    "              77.0496940612793,\n",
    "              28.45963668793731\n",
    "            ]\n",
    "          ]\n",
    "        ]\n",
    "      }\n",
    "    }\n",
    "  ]\n",
    "}"
   ]
  },
  {
   "cell_type": "code",
   "execution_count": 8,
   "id": "eba7cb8d",
   "metadata": {},
   "outputs": [],
   "source": [
    "class GeoJsonParser:\n",
    "    \n",
    "    def __init__(self, geojson: dict):\n",
    "        self.geojson = geojson\n",
    "        self.polygons = []\n",
    "        self.loops = []\n",
    "        \n",
    "        ## parse the GeoJson\n",
    "        self.parse_geojson()\n",
    "        self.get_loops()\n",
    "        \n",
    "    def parse_geojson(self):\n",
    "        features = self.geojson['features']\n",
    "        for feature in features:\n",
    "            latlngs = []\n",
    "            coordinates = feature['geometry']['coordinates']\n",
    "            for coordinate in coordinates[0][:-1]:\n",
    "                latlngs.append(S2LatLng.FromDegrees(coordinate[1], coordinate[0]))\n",
    "            self.polygons.append(latlngs)\n",
    "            \n",
    "    def get_loops(self):\n",
    "        for poly in self.polygons:\n",
    "            s2loop = []\n",
    "            for latlng in poly:\n",
    "                s2loop.append(latlng.ToPoint())\n",
    "            self.loops.append(s2loop)"
   ]
  },
  {
   "cell_type": "code",
   "execution_count": 9,
   "id": "756ccc0e",
   "metadata": {},
   "outputs": [],
   "source": [
    "parser = GeoJsonParser(geojson2)"
   ]
  },
  {
   "cell_type": "code",
   "execution_count": 10,
   "id": "b3b2c189",
   "metadata": {},
   "outputs": [
    {
     "data": {
      "text/plain": [
       "[[<pywraps2.S2Point; proxy of <Swig Object of type 'S2Point *' at 0x4035c5f660> >,\n",
       "  <pywraps2.S2Point; proxy of <Swig Object of type 'S2Point *' at 0x4035c5f690> >,\n",
       "  <pywraps2.S2Point; proxy of <Swig Object of type 'S2Point *' at 0x4035c5f6c0> >,\n",
       "  <pywraps2.S2Point; proxy of <Swig Object of type 'S2Point *' at 0x4035c5f6f0> >,\n",
       "  <pywraps2.S2Point; proxy of <Swig Object of type 'S2Point *' at 0x4035c5f720> >,\n",
       "  <pywraps2.S2Point; proxy of <Swig Object of type 'S2Point *' at 0x4035c5f750> >,\n",
       "  <pywraps2.S2Point; proxy of <Swig Object of type 'S2Point *' at 0x4035c5f780> >,\n",
       "  <pywraps2.S2Point; proxy of <Swig Object of type 'S2Point *' at 0x4035c5f7b0> >,\n",
       "  <pywraps2.S2Point; proxy of <Swig Object of type 'S2Point *' at 0x4035c5f7e0> >,\n",
       "  <pywraps2.S2Point; proxy of <Swig Object of type 'S2Point *' at 0x4035c5f810> >]]"
      ]
     },
     "execution_count": 10,
     "metadata": {},
     "output_type": "execute_result"
    }
   ],
   "source": [
    "parser.loops"
   ]
  },
  {
   "cell_type": "code",
   "execution_count": 12,
   "id": "62fce168",
   "metadata": {},
   "outputs": [],
   "source": [
    "loop1 = S2Loop(parser.loops[0])\n",
    "# loop2 = S2Loop(parser.loops[1])"
   ]
  },
  {
   "cell_type": "code",
   "execution_count": 13,
   "id": "b40e7338",
   "metadata": {},
   "outputs": [],
   "source": [
    "poly = S2Polygon(loop1)"
   ]
  },
  {
   "cell_type": "code",
   "execution_count": 34,
   "id": "4db71227",
   "metadata": {},
   "outputs": [],
   "source": [
    "min_level = 13\n",
    "max_level = 13\n",
    "# max_cells = 10_000"
   ]
  },
  {
   "cell_type": "code",
   "execution_count": 35,
   "id": "6f1096db",
   "metadata": {},
   "outputs": [
    {
     "name": "stdout",
     "output_type": "stream",
     "text": [
      "CPU times: user 23.2 ms, sys: 0 ns, total: 23.2 ms\n",
      "Wall time: 22.5 ms\n"
     ]
    }
   ],
   "source": [
    "%%time\n",
    "\n",
    "coverer = S2RegionCoverer()\n",
    "coverer.set_min_level(min_level)\n",
    "coverer.set_max_level(max_level)\n",
    "# coverer.set_max_cells(max_cells)\n",
    "cells = coverer.GetCovering(poly)"
   ]
  },
  {
   "cell_type": "code",
   "execution_count": 36,
   "id": "f0faaa4d",
   "metadata": {
    "scrolled": true
   },
   "outputs": [],
   "source": [
    "tokens = []\n",
    "for cell in cells:\n",
    "    tokens.append(cell.ToToken())"
   ]
  },
  {
   "cell_type": "code",
   "execution_count": 37,
   "id": "c3acbcd7",
   "metadata": {},
   "outputs": [],
   "source": [
    "import pandas as pd\n",
    "\n",
    "df = pd.DataFrame(tokens, columns=['token'])"
   ]
  },
  {
   "cell_type": "code",
   "execution_count": 38,
   "id": "92fe79c2",
   "metadata": {},
   "outputs": [],
   "source": [
    "df.to_csv('s2_token-13.csv', encoding='utf-8-sig', index=False)"
   ]
  },
  {
   "cell_type": "code",
   "execution_count": null,
   "id": "def9c076",
   "metadata": {},
   "outputs": [],
   "source": []
  }
 ],
 "metadata": {
  "kernelspec": {
   "display_name": "Python 3",
   "language": "python",
   "name": "python3"
  },
  "language_info": {
   "codemirror_mode": {
    "name": "ipython",
    "version": 3
   },
   "file_extension": ".py",
   "mimetype": "text/x-python",
   "name": "python",
   "nbconvert_exporter": "python",
   "pygments_lexer": "ipython3",
   "version": "3.6.9"
  }
 },
 "nbformat": 4,
 "nbformat_minor": 5
}
