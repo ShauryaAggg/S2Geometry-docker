{
 "cells": [
  {
   "cell_type": "code",
   "execution_count": 1,
   "id": "d497ff52",
   "metadata": {},
   "outputs": [],
   "source": [
    "import sys\n",
    "sys.path.append('/usr/local/lib/python3/dist-packages')"
   ]
  },
  {
   "cell_type": "code",
   "execution_count": 2,
   "id": "0aa9896f",
   "metadata": {},
   "outputs": [],
   "source": [
    "import pywraps2 as s2\n",
    "from pywraps2 import S2Point, S2Cell, S2LatLng, S2LatLngRect, S1Angle, S2Loop, S2RegionCoverer, S2Polygon, S2CellId"
   ]
  },
  {
   "cell_type": "code",
   "execution_count": 3,
   "id": "920f3158",
   "metadata": {},
   "outputs": [],
   "source": [
    "geojson = {\n",
    "  \"type\": \"FeatureCollection\",\n",
    "  \"features\": [\n",
    "    {\n",
    "      \"type\": \"Feature\",\n",
    "      \"properties\": {},\n",
    "      \"geometry\": {\n",
    "        \"type\": \"Polygon\",\n",
    "        \"coordinates\": [\n",
    "          [\n",
    "            [\n",
    "              76.201171875,\n",
    "              29.869228848968312\n",
    "            ],\n",
    "            [\n",
    "              75.69580078125,\n",
    "              28.468691297348148\n",
    "            ],\n",
    "            [\n",
    "              77.574462890625,\n",
    "              28.323724553546015\n",
    "            ],\n",
    "            [\n",
    "              77.7392578125,\n",
    "              29.35345166863502\n",
    "            ],\n",
    "            [\n",
    "              76.201171875,\n",
    "              29.869228848968312\n",
    "            ]\n",
    "          ]\n",
    "        ]\n",
    "      }\n",
    "    },\n",
    "    {\n",
    "      \"type\": \"Feature\",\n",
    "      \"properties\": {},\n",
    "      \"geometry\": {\n",
    "        \"type\": \"Polygon\",\n",
    "        \"coordinates\": [\n",
    "          [\n",
    "            [\n",
    "              71.575927734375,\n",
    "              27.430289738862594\n",
    "            ],\n",
    "            [\n",
    "              72.9052734375,\n",
    "              28.159189634046708\n",
    "            ],\n",
    "            [\n",
    "              73.17993164062499,\n",
    "              27.381523191705053\n",
    "            ],\n",
    "            [\n",
    "              71.630859375,\n",
    "              27.401032392938866\n",
    "            ],\n",
    "            [\n",
    "              72.410888671875,\n",
    "              26.500072915744372\n",
    "            ],\n",
    "            [\n",
    "              74.058837890625,\n",
    "              27.36201054924028\n",
    "            ],\n",
    "            [\n",
    "              73.5205078125,\n",
    "              28.98892237190413\n",
    "            ],\n",
    "            [\n",
    "              71.575927734375,\n",
    "              27.430289738862594\n",
    "            ]\n",
    "          ]\n",
    "        ]\n",
    "      }\n",
    "    }\n",
    "  ]\n",
    "}"
   ]
  },
  {
   "cell_type": "code",
   "execution_count": 4,
   "id": "b87335e7",
   "metadata": {},
   "outputs": [],
   "source": [
    "geojson2 = {\n",
    "  \"type\": \"FeatureCollection\",\n",
    "  \"features\": [\n",
    "    {\n",
    "      \"type\": \"Feature\",\n",
    "      \"properties\": {\n",
    "        \"stroke\": \"#555555\",\n",
    "        \"stroke-width\": 2,\n",
    "        \"stroke-opacity\": 1,\n",
    "        \"fill\": \"#555555\",\n",
    "        \"fill-opacity\": 0.5\n",
    "      },\n",
    "      \"geometry\": {\n",
    "        \"type\": \"Polygon\",\n",
    "        \"coordinates\": [\n",
    "          [\n",
    "            [\n",
    "              77.0496940612793,\n",
    "              28.45963668793731\n",
    "            ],\n",
    "            [\n",
    "              77.0635986328125,\n",
    "              28.45043037318006\n",
    "            ],\n",
    "            [\n",
    "              77.05879211425781,\n",
    "              28.44469488663175\n",
    "            ],\n",
    "            [\n",
    "              77.06789016723633,\n",
    "              28.436392973656965\n",
    "            ],\n",
    "            [\n",
    "              77.07647323608398,\n",
    "              28.446506126513928\n",
    "            ],\n",
    "            [\n",
    "              77.08677291870117,\n",
    "              28.449826652402077\n",
    "            ],\n",
    "            [\n",
    "              77.09672927856445,\n",
    "              28.450279443308684\n",
    "            ],\n",
    "            [\n",
    "              77.09587097167969,\n",
    "              28.462956801462703\n",
    "            ],\n",
    "            [\n",
    "              77.07355499267578,\n",
    "              28.45873118433063\n",
    "            ],\n",
    "            [\n",
    "              77.05767631530762,\n",
    "              28.467861323783215\n",
    "            ],\n",
    "            [\n",
    "              77.0496940612793,\n",
    "              28.45963668793731\n",
    "            ]\n",
    "          ]\n",
    "        ]\n",
    "      }\n",
    "    }\n",
    "  ]\n",
    "}"
   ]
  },
  {
   "cell_type": "code",
   "execution_count": 90,
   "id": "5c473b1a",
   "metadata": {},
   "outputs": [],
   "source": [
    "geo_jsons = {\"km2_250\":{\"features\":[{\"properties\":{},\"type\":\"Feature\",\"geometry\":{\"coordinates\":[[[76.99871063232422,28.544719370308737],[76.90223693847656,28.453901700762646],[77.03922271728514,28.360286940947283],[77.15938568115234,28.472614720490967],[76.99871063232422,28.544719370308737]]],\"type\":\"Polygon\"}}],\"type\":\"FeatureCollection\"},\"km2_100\":{\"features\":[{\"properties\":{},\"type\":\"Feature\",\"geometry\":{\"coordinates\":[[[77.02377319335936,28.559496241467098],[77.02377319335936,28.561607053766586],[76.95785522460938,28.478348692223165],[77.02720642089844,28.437902460838288],[77.10514068603516,28.51847777650959],[77.02377319335936,28.559496241467098]]],\"type\":\"Polygon\"}}],\"type\":\"FeatureCollection\"},\"km2_26\":{\"features\":[{\"properties\":{\"stroke-width\":2,\"fill-opacity\":0.5,\"fill\":\"#555555\",\"stroke-opacity\":1,\"stroke\":\"#555555\"},\"type\":\"Feature\",\"geometry\":{\"coordinates\":[[[77.07115173339844,28.47804691199713],[77.05741882324219,28.467936776194872],[77.05707550048828,28.4433364363651],[77.07475662231444,28.43050576788437],[77.10514068603516,28.431713426539677],[77.12196350097656,28.449222928177342],[77.10891723632812,28.46733315539307],[77.09243774414062,28.481064675455944],[77.07115173339844,28.47804691199713]]],\"type\":\"Polygon\"}}],\"type\":\"FeatureCollection\"},\"km2_600\":{\"features\":[{\"properties\":{},\"type\":\"Feature\",\"geometry\":{\"coordinates\":[[[76.96609497070312,28.60743139267596],[76.86172485351562,28.50369515241441],[76.93588256835938,28.38415145897281],[77.08145141601562,28.370860490997323],[77.18719482421874,28.438506249680675],[77.16659545898438,28.582109884356534],[76.96609497070312,28.60743139267596]]],\"type\":\"Polygon\"}}],\"type\":\"FeatureCollection\"},\"km2_50\":{\"features\":[{\"properties\":{},\"type\":\"Feature\",\"geometry\":{\"coordinates\":[[[77.06119537353516,28.49600133462104],[77.02875137329102,28.46914400745396],[77.0694351196289,28.42341049498704],[77.1324348449707,28.44394019419311],[77.1188735961914,28.49011744843003],[77.06119537353516,28.49600133462104]]],\"type\":\"Polygon\"}}],\"type\":\"FeatureCollection\"},\"km2_960\":{\"features\":[{\"properties\":{},\"type\":\"Feature\",\"geometry\":{\"coordinates\":[[[76.981201171875,28.627925287618567],[76.8548583984375,28.521796040000677],[76.96746826171875,28.36361017019959],[77.17483520507812,28.34789944257093],[77.2943115234375,28.472312923883393],[77.18307495117188,28.63395214251842],[76.981201171875,28.627925287618567]]],\"type\":\"Polygon\"}}],\"type\":\"FeatureCollection\"}}"
   ]
  },
  {
   "cell_type": "code",
   "execution_count": 5,
   "id": "eba7cb8d",
   "metadata": {},
   "outputs": [],
   "source": [
    "from typing import Dict\n",
    "\n",
    "class GeoJsonParser:\n",
    "    \n",
    "    def __init__(self, geojson: Dict):\n",
    "        self.geojson = geojson\n",
    "        self.polygons = []\n",
    "        self.loops = []\n",
    "        \n",
    "        ## parse the GeoJson\n",
    "        self.parse_geojson()\n",
    "        self.get_loops()\n",
    "        \n",
    "    def parse_geojson(self):\n",
    "        features = self.geojson['features']\n",
    "        for feature in features:\n",
    "            latlngs = []\n",
    "            coordinates = feature['geometry']['coordinates']\n",
    "            for coordinate in coordinates[0][:-1]:\n",
    "                latlngs.append(S2LatLng.FromDegrees(coordinate[1], coordinate[0]))\n",
    "            self.polygons.append(latlngs)\n",
    "            \n",
    "    def get_loops(self):\n",
    "        for poly in self.polygons:\n",
    "            s2loop = []\n",
    "            for latlng in poly:\n",
    "                s2loop.append(latlng.ToPoint())\n",
    "            self.loops.append(s2loop)"
   ]
  },
  {
   "cell_type": "code",
   "execution_count": 123,
   "id": "756ccc0e",
   "metadata": {},
   "outputs": [],
   "source": [
    "parser = GeoJsonParser(geo_jsons['km2_26'])"
   ]
  },
  {
   "cell_type": "code",
   "execution_count": 124,
   "id": "b3b2c189",
   "metadata": {},
   "outputs": [
    {
     "data": {
      "text/plain": [
       "[[<pywraps2.S2Point; proxy of <Swig Object of type 'S2Point *' at 0x406514b840> >,\n",
       "  <pywraps2.S2Point; proxy of <Swig Object of type 'S2Point *' at 0x406514b870> >,\n",
       "  <pywraps2.S2Point; proxy of <Swig Object of type 'S2Point *' at 0x406514b8a0> >,\n",
       "  <pywraps2.S2Point; proxy of <Swig Object of type 'S2Point *' at 0x406514b8d0> >,\n",
       "  <pywraps2.S2Point; proxy of <Swig Object of type 'S2Point *' at 0x406514b900> >,\n",
       "  <pywraps2.S2Point; proxy of <Swig Object of type 'S2Point *' at 0x406514b930> >,\n",
       "  <pywraps2.S2Point; proxy of <Swig Object of type 'S2Point *' at 0x406514b960> >,\n",
       "  <pywraps2.S2Point; proxy of <Swig Object of type 'S2Point *' at 0x406514b990> >]]"
      ]
     },
     "execution_count": 124,
     "metadata": {},
     "output_type": "execute_result"
    }
   ],
   "source": [
    "parser.loops"
   ]
  },
  {
   "cell_type": "code",
   "execution_count": 125,
   "id": "62fce168",
   "metadata": {},
   "outputs": [],
   "source": [
    "loop1 = S2Loop(parser.loops[0])\n",
    "# loop2 = S2Loop(parser.loops[1])"
   ]
  },
  {
   "cell_type": "code",
   "execution_count": 126,
   "id": "b40e7338",
   "metadata": {},
   "outputs": [],
   "source": [
    "poly = S2Polygon(loop1)"
   ]
  },
  {
   "cell_type": "code",
   "execution_count": 127,
   "id": "4db71227",
   "metadata": {},
   "outputs": [],
   "source": [
    "min_level = 14\n",
    "max_level = 20\n",
    "# max_cells = 10_000"
   ]
  },
  {
   "cell_type": "code",
   "execution_count": 128,
   "id": "6f1096db",
   "metadata": {},
   "outputs": [
    {
     "name": "stdout",
     "output_type": "stream",
     "text": [
      "50.9 ms ± 970 µs per loop (mean ± std. dev. of 7 runs, 10 loops each)\n"
     ]
    }
   ],
   "source": [
    "%%\n",
    "coverer = S2RegionCoverer()\n",
    "coverer.set_min_level(min_level)\n",
    "coverer.set_max_level(max_level)\n",
    "# coverer.set_max_cells(max_cells)\n",
    "cells = coverer.GetCovering(poly)"
   ]
  },
  {
   "cell_type": "code",
   "execution_count": 118,
   "id": "f0faaa4d",
   "metadata": {
    "scrolled": true
   },
   "outputs": [],
   "source": [
    "tokens = []\n",
    "for cell in cells:\n",
    "    tokens.append(cell.ToToken())"
   ]
  },
  {
   "cell_type": "code",
   "execution_count": 89,
   "id": "b6f3b1ef",
   "metadata": {},
   "outputs": [],
   "source": [
    "# %%timeit\n",
    "lat, lng = 37.769377, -122.388903\n",
    "lat, lng = 37.769377, -122.38890\n",
    "\n",
    "latlng = S2LatLng.FromDegrees(lat, lng)\n",
    "cell = S2CellId(latlng)"
   ]
  },
  {
   "cell_type": "code",
   "execution_count": 70,
   "id": "72e0073e",
   "metadata": {},
   "outputs": [],
   "source": [
    "%load_ext memory_profiler"
   ]
  },
  {
   "cell_type": "code",
   "execution_count": 79,
   "id": "0803a6b1",
   "metadata": {},
   "outputs": [
    {
     "name": "stdout",
     "output_type": "stream",
     "text": [
      "peak memory: 151.60 MiB, increment: 0.00 MiB\n"
     ]
    }
   ],
   "source": [
    "%memit c = S2CellId(latlng)"
   ]
  },
  {
   "cell_type": "code",
   "execution_count": 80,
   "id": "f723e457",
   "metadata": {},
   "outputs": [],
   "source": [
    "cell_20 = cell.parent(20)"
   ]
  },
  {
   "cell_type": "code",
   "execution_count": 82,
   "id": "16b445e4",
   "metadata": {},
   "outputs": [
    {
     "name": "stdout",
     "output_type": "stream",
     "text": [
      "98.7 µs ± 1.13 µs per loop (mean ± std. dev. of 7 runs, 10000 loops each)\n"
     ]
    }
   ],
   "source": [
    "%%timeit\n",
    "\n",
    "for i in range(6):\n",
    "    cell_20.parent(20 - (i + 1))"
   ]
  },
  {
   "cell_type": "code",
   "execution_count": 106,
   "id": "c3acbcd7",
   "metadata": {},
   "outputs": [],
   "source": [
    "import pandas as pd\n",
    "\n",
    "df = pd.DataFrame(tokens, columns=['token'])"
   ]
  },
  {
   "cell_type": "code",
   "execution_count": 119,
   "id": "92fe79c2",
   "metadata": {},
   "outputs": [],
   "source": [
    "df.to_csv('s2_token-14-22.csv', encoding='utf-8-sig', index=False)"
   ]
  },
  {
   "cell_type": "code",
   "execution_count": 134,
   "id": "def9c076",
   "metadata": {},
   "outputs": [],
   "source": [
    "from GeoS2 import get_region_cover"
   ]
  },
  {
   "cell_type": "code",
   "execution_count": 135,
   "id": "638b8865",
   "metadata": {},
   "outputs": [
    {
     "name": "stdout",
     "output_type": "stream",
     "text": [
      "\n"
     ]
    }
   ],
   "source": [
    "%mprun -f get_region_cover get_region_cover(14, 19, geo_jsons['km2_26'])"
   ]
  },
  {
   "cell_type": "code",
   "execution_count": null,
   "id": "4d5d17a1",
   "metadata": {},
   "outputs": [],
   "source": []
  }
 ],
 "metadata": {
  "kernelspec": {
   "display_name": "Python 3",
   "language": "python",
   "name": "python3"
  },
  "language_info": {
   "codemirror_mode": {
    "name": "ipython",
    "version": 3
   },
   "file_extension": ".py",
   "mimetype": "text/x-python",
   "name": "python",
   "nbconvert_exporter": "python",
   "pygments_lexer": "ipython3",
   "version": "3.6.9"
  }
 },
 "nbformat": 4,
 "nbformat_minor": 5
}
