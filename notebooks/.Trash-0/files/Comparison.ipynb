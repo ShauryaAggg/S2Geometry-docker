{
 "cells": [
  {
   "cell_type": "code",
   "execution_count": null,
   "id": "ce751d3b",
   "metadata": {},
   "outputs": [],
   "source": [
    "import sys; sys.path.append('/usr/local/lib/python3/dist-packages')"
   ]
  }
 ],
 "metadata": {
  "kernelspec": {
   "display_name": "Python 3",
   "language": "python",
   "name": "python3"
  },
  "language_info": {
   "codemirror_mode": {
    "name": "ipython",
    "version": 3
   },
   "file_extension": ".py",
   "mimetype": "text/x-python",
   "name": "python",
   "nbconvert_exporter": "python",
   "pygments_lexer": "ipython3",
   "version": "3.6.9"
  }
 },
 "nbformat": 4,
 "nbformat_minor": 5
}
