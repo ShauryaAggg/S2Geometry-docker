{
 "cells": [
  {
   "cell_type": "code",
   "execution_count": 2,
   "id": "bb3e4bcb",
   "metadata": {},
   "outputs": [],
   "source": [
    "import sys\n",
    "sys.path.append('/usr/local/lib/python3/dist-packages')"
   ]
  },
  {
   "cell_type": "code",
   "execution_count": 3,
   "id": "5da94653",
   "metadata": {},
   "outputs": [],
   "source": [
    "from pywraps2 import S2Point, S2Cell, S2LatLng, S2LatLngRect, S1Angle, S2Loop, S2RegionCoverer"
   ]
  },
  {
   "cell_type": "code",
   "execution_count": 4,
   "id": "c72f779b",
   "metadata": {},
   "outputs": [],
   "source": [
    "geojson = {\n",
    "  \"type\": \"FeatureCollection\",\n",
    "  \"features\": [\n",
    "    {\n",
    "      \"type\": \"Feature\",\n",
    "      \"properties\": {},\n",
    "      \"geometry\": {\n",
    "        \"type\": \"Polygon\",\n",
    "        \"coordinates\": [\n",
    "          [\n",
    "            [\n",
    "              76.201171875,\n",
    "              29.869228848968312\n",
    "            ],\n",
    "            [\n",
    "              75.69580078125,\n",
    "              28.468691297348148\n",
    "            ],\n",
    "            [\n",
    "              77.574462890625,\n",
    "              28.323724553546015\n",
    "            ],\n",
    "            [\n",
    "              77.7392578125,\n",
    "              29.35345166863502\n",
    "            ],\n",
    "            [\n",
    "              76.201171875,\n",
    "              29.869228848968312\n",
    "            ]\n",
    "          ]\n",
    "        ]\n",
    "      }\n",
    "    },\n",
    "    {\n",
    "      \"type\": \"Feature\",\n",
    "      \"properties\": {},\n",
    "      \"geometry\": {\n",
    "        \"type\": \"Polygon\",\n",
    "        \"coordinates\": [\n",
    "          [\n",
    "            [\n",
    "              71.575927734375,\n",
    "              27.430289738862594\n",
    "            ],\n",
    "            [\n",
    "              72.9052734375,\n",
    "              28.159189634046708\n",
    "            ],\n",
    "            [\n",
    "              73.17993164062499,\n",
    "              27.381523191705053\n",
    "            ],\n",
    "            [\n",
    "              71.630859375,\n",
    "              27.401032392938866\n",
    "            ],\n",
    "            [\n",
    "              72.410888671875,\n",
    "              26.500072915744372\n",
    "            ],\n",
    "            [\n",
    "              74.058837890625,\n",
    "              27.36201054924028\n",
    "            ],\n",
    "            [\n",
    "              73.5205078125,\n",
    "              28.98892237190413\n",
    "            ],\n",
    "            [\n",
    "              71.575927734375,\n",
    "              27.430289738862594\n",
    "            ]\n",
    "          ]\n",
    "        ]\n",
    "      }\n",
    "    }\n",
    "  ]\n",
    "}"
   ]
  },
  {
   "cell_type": "code",
   "execution_count": 5,
   "id": "f6bc0254",
   "metadata": {},
   "outputs": [],
   "source": [
    "class GeoJsonParser:\n",
    "    \n",
    "    def __init__(self, geojson: dict):\n",
    "        self.geojson = geojson\n",
    "        self.polygons = []\n",
    "        self.loops = []\n",
    "        \n",
    "        ## parse the GeoJson\n",
    "        self.parse_geojson()\n",
    "        self.get_loops()\n",
    "        \n",
    "    def parse_geojson(self):\n",
    "        features = geojson['features']\n",
    "        for feature in features:\n",
    "            latlngs = []\n",
    "            coordinates = feature['geometry']['coordinates']\n",
    "            for coordinate in coordinates[0]:\n",
    "                latlngs.append(S2LatLng.FromDegrees(coordinate[1], coordinate[0]))\n",
    "            self.polygons.append(latlngs)\n",
    "            \n",
    "    def get_loops(self):\n",
    "        for poly in self.polygons:\n",
    "            s2loop = []\n",
    "            for latlng in poly:\n",
    "                s2loop.append(latlng.ToPoint())\n",
    "            self.loops.append(s2loop)"
   ]
  },
  {
   "cell_type": "code",
   "execution_count": 5,
   "id": "7a3a1aa0",
   "metadata": {},
   "outputs": [
    {
     "data": {
      "text/plain": [
       "[[<pywraps2.S2Point; proxy of <Swig Object of type 'S2Point *' at 0x4035f4a5a0> >,\n",
       "  <pywraps2.S2Point; proxy of <Swig Object of type 'S2Point *' at 0x4035f4aba0> >,\n",
       "  <pywraps2.S2Point; proxy of <Swig Object of type 'S2Point *' at 0x4035f4abd0> >,\n",
       "  <pywraps2.S2Point; proxy of <Swig Object of type 'S2Point *' at 0x4035f4ac00> >,\n",
       "  <pywraps2.S2Point; proxy of <Swig Object of type 'S2Point *' at 0x4035f4ac30> >],\n",
       " [<pywraps2.S2Point; proxy of <Swig Object of type 'S2Point *' at 0x4035f4ac60> >,\n",
       "  <pywraps2.S2Point; proxy of <Swig Object of type 'S2Point *' at 0x4035f54150> >,\n",
       "  <pywraps2.S2Point; proxy of <Swig Object of type 'S2Point *' at 0x4035f54180> >,\n",
       "  <pywraps2.S2Point; proxy of <Swig Object of type 'S2Point *' at 0x4035f545a0> >,\n",
       "  <pywraps2.S2Point; proxy of <Swig Object of type 'S2Point *' at 0x4035f60420> >,\n",
       "  <pywraps2.S2Point; proxy of <Swig Object of type 'S2Point *' at 0x4035f60450> >,\n",
       "  <pywraps2.S2Point; proxy of <Swig Object of type 'S2Point *' at 0x4035f604b0> >,\n",
       "  <pywraps2.S2Point; proxy of <Swig Object of type 'S2Point *' at 0x4035f604e0> >]]"
      ]
     },
     "execution_count": 5,
     "metadata": {},
     "output_type": "execute_result"
    }
   ],
   "source": [
    "parser = GeoJsonParser(geojson)\n",
    "parser.loops"
   ]
  },
  {
   "cell_type": "code",
   "execution_count": null,
   "id": "09001d2b",
   "metadata": {},
   "outputs": [],
   "source": [
    "print(S2Loop(parser.loops[0]))"
   ]
  },
  {
   "cell_type": "code",
   "execution_count": null,
   "id": "50276ccd",
   "metadata": {},
   "outputs": [],
   "source": [
    "print"
   ]
  }
 ],
 "metadata": {
  "kernelspec": {
   "display_name": "Python 3",
   "language": "python",
   "name": "python3"
  },
  "language_info": {
   "codemirror_mode": {
    "name": "ipython",
    "version": 3
   },
   "file_extension": ".py",
   "mimetype": "text/x-python",
   "name": "python",
   "nbconvert_exporter": "python",
   "pygments_lexer": "ipython3",
   "version": "3.6.9"
  }
 },
 "nbformat": 4,
 "nbformat_minor": 5
}
