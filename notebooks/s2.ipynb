{
 "cells": [
  {
   "cell_type": "code",
   "execution_count": 19,
   "metadata": {},
   "outputs": [
    {
     "name": "stdout",
     "output_type": "stream",
     "text": [
      "Reading package lists... Done\n",
      "Building dependency tree       \n",
      "Reading state information... Done\n",
      "The following additional packages will be installed:\n",
      "  libgeos-3.6.2 libgeos-c1v5 libproj12 libpython-dev libpython2.7\n",
      "  libpython2.7-dev python-dev python2.7-dev\n",
      "Suggested packages:\n",
      "  cython-doc libgdal-doc\n",
      "The following NEW packages will be installed:\n",
      "  cython libgeos-3.6.2 libgeos-c1v5 libgeos-dev libproj-dev libproj12\n",
      "  libpython-dev libpython2.7 libpython2.7-dev proj-bin proj-data python-dev\n",
      "  python2.7-dev\n",
      "0 upgraded, 13 newly installed, 0 to remove and 0 not upgraded.\n",
      "Need to get 36.5 MB of archives.\n",
      "After this operation, 73.7 MB of additional disk space will be used.\n",
      "Get:1 http://archive.ubuntu.com/ubuntu bionic/universe amd64 cython amd64 0.26.1-0.4 [1874 kB]\n",
      "Get:2 http://archive.ubuntu.com/ubuntu bionic/universe amd64 libgeos-3.6.2 amd64 3.6.2-1build2 [476 kB]\n",
      "Get:3 http://archive.ubuntu.com/ubuntu bionic/universe amd64 libgeos-c1v5 amd64 3.6.2-1build2 [54.9 kB]\n",
      "Get:4 http://archive.ubuntu.com/ubuntu bionic/universe amd64 libgeos-dev amd64 3.6.2-1build2 [73.1 kB]\n",
      "Get:5 http://archive.ubuntu.com/ubuntu bionic/universe amd64 proj-data all 4.9.3-2 [4020 kB]\n",
      "Get:6 http://archive.ubuntu.com/ubuntu bionic/universe amd64 libproj12 amd64 4.9.3-2 [159 kB]\n",
      "Get:7 http://archive.ubuntu.com/ubuntu bionic-updates/main amd64 libpython2.7 amd64 2.7.17-1~18.04ubuntu1.7 [1054 kB]\n",
      "Get:8 http://archive.ubuntu.com/ubuntu bionic-updates/main amd64 libpython2.7-dev amd64 2.7.17-1~18.04ubuntu1.7 [28.3 MB]\n",
      "Get:9 http://archive.ubuntu.com/ubuntu bionic/main amd64 libpython-dev amd64 2.7.15~rc1-1 [7684 B]\n",
      "Get:10 http://archive.ubuntu.com/ubuntu bionic-updates/main amd64 python2.7-dev amd64 2.7.17-1~18.04ubuntu1.7 [285 kB]\n",
      "Get:11 http://archive.ubuntu.com/ubuntu bionic/main amd64 python-dev amd64 2.7.15~rc1-1 [1256 B]\n",
      "Get:12 http://archive.ubuntu.com/ubuntu bionic/universe amd64 libproj-dev amd64 4.9.3-2 [199 kB]\n",
      "Get:13 http://archive.ubuntu.com/ubuntu bionic/universe amd64 proj-bin amd64 4.9.3-2 [32.3 kB]\n",
      "Fetched 36.5 MB in 27s (1365 kB/s)                                             \n",
      "debconf: delaying package configuration, since apt-utils is not installed\n",
      "Selecting previously unselected package cython.\n",
      "(Reading database ... 20965 files and directories currently installed.)\n",
      "Preparing to unpack .../00-cython_0.26.1-0.4_amd64.deb ...\n",
      "Unpacking cython (0.26.1-0.4) ...\n",
      "Selecting previously unselected package libgeos-3.6.2:amd64.\n",
      "Preparing to unpack .../01-libgeos-3.6.2_3.6.2-1build2_amd64.deb ...\n",
      "Unpacking libgeos-3.6.2:amd64 (3.6.2-1build2) ...\n",
      "Selecting previously unselected package libgeos-c1v5:amd64.\n",
      "Preparing to unpack .../02-libgeos-c1v5_3.6.2-1build2_amd64.deb ...\n",
      "Unpacking libgeos-c1v5:amd64 (3.6.2-1build2) ...\n",
      "Selecting previously unselected package libgeos-dev.\n",
      "Preparing to unpack .../03-libgeos-dev_3.6.2-1build2_amd64.deb ...\n",
      "Unpacking libgeos-dev (3.6.2-1build2) ...\n",
      "Selecting previously unselected package proj-data.\n",
      "Preparing to unpack .../04-proj-data_4.9.3-2_all.deb ...\n",
      "Unpacking proj-data (4.9.3-2) ...\n",
      "Selecting previously unselected package libproj12:amd64.\n",
      "Preparing to unpack .../05-libproj12_4.9.3-2_amd64.deb ...\n",
      "Unpacking libproj12:amd64 (4.9.3-2) ...\n",
      "Selecting previously unselected package libpython2.7:amd64.\n",
      "Preparing to unpack .../06-libpython2.7_2.7.17-1~18.04ubuntu1.7_amd64.deb ...\n",
      "Unpacking libpython2.7:amd64 (2.7.17-1~18.04ubuntu1.7) ...\n",
      "Selecting previously unselected package libpython2.7-dev:amd64.\n",
      "Preparing to unpack .../07-libpython2.7-dev_2.7.17-1~18.04ubuntu1.7_amd64.deb ...\n",
      "Unpacking libpython2.7-dev:amd64 (2.7.17-1~18.04ubuntu1.7) ...\n",
      "Selecting previously unselected package libpython-dev:amd64.\n",
      "Preparing to unpack .../08-libpython-dev_2.7.15~rc1-1_amd64.deb ...\n",
      "Unpacking libpython-dev:amd64 (2.7.15~rc1-1) ...\n",
      "Selecting previously unselected package python2.7-dev.\n",
      "Preparing to unpack .../09-python2.7-dev_2.7.17-1~18.04ubuntu1.7_amd64.deb ...\n",
      "Unpacking python2.7-dev (2.7.17-1~18.04ubuntu1.7) ...\n",
      "Selecting previously unselected package python-dev.\n",
      "Preparing to unpack .../10-python-dev_2.7.15~rc1-1_amd64.deb ...\n",
      "Unpacking python-dev (2.7.15~rc1-1) ...\n",
      "Selecting previously unselected package libproj-dev:amd64.\n",
      "Preparing to unpack .../11-libproj-dev_4.9.3-2_amd64.deb ...\n",
      "Unpacking libproj-dev:amd64 (4.9.3-2) ...\n",
      "Selecting previously unselected package proj-bin.\n",
      "Preparing to unpack .../12-proj-bin_4.9.3-2_amd64.deb ...\n",
      "Unpacking proj-bin (4.9.3-2) ...\n",
      "Setting up libgeos-3.6.2:amd64 (3.6.2-1build2) ...\n",
      "Setting up cython (0.26.1-0.4) ...\n",
      "Setting up libgeos-c1v5:amd64 (3.6.2-1build2) ...\n",
      "Setting up libpython2.7:amd64 (2.7.17-1~18.04ubuntu1.7) ...\n",
      "Setting up libpython2.7-dev:amd64 (2.7.17-1~18.04ubuntu1.7) ...\n",
      "Setting up python2.7-dev (2.7.17-1~18.04ubuntu1.7) ...\n",
      "Setting up proj-data (4.9.3-2) ...\n",
      "Setting up libpython-dev:amd64 (2.7.15~rc1-1) ...\n",
      "Setting up libproj12:amd64 (4.9.3-2) ...\n",
      "Setting up python-dev (2.7.15~rc1-1) ...\n",
      "Setting up libgeos-dev (3.6.2-1build2) ...\n",
      "Setting up proj-bin (4.9.3-2) ...\n",
      "Setting up libproj-dev:amd64 (4.9.3-2) ...\n",
      "Processing triggers for libc-bin (2.27-3ubuntu1.5) ...\n"
     ]
    }
   ],
   "source": [
    "!apt-get install -y libproj-dev proj-data proj-bin libgeos-dev cython"
   ]
  },
  {
   "cell_type": "code",
   "execution_count": 16,
   "metadata": {},
   "outputs": [
    {
     "name": "stdout",
     "output_type": "stream",
     "text": [
      "Collecting numpy\n",
      "  Using cached https://files.pythonhosted.org/packages/45/b2/6c7545bb7a38754d63048c7696804a0d947328125d81bf12beaa692c3ae3/numpy-1.19.5-cp36-cp36m-manylinux1_x86_64.whl\n",
      "Installing collected packages: numpy\n",
      "Successfully installed numpy-1.19.5\n"
     ]
    }
   ],
   "source": [
    "!pip3 install numpy"
   ]
  },
  {
   "cell_type": "code",
   "execution_count": 20,
   "metadata": {},
   "outputs": [
    {
     "name": "stdout",
     "output_type": "stream",
     "text": [
      "Collecting Cartopy\n",
      "  Using cached https://files.pythonhosted.org/packages/ed/ca/524ce33692df3faeaa56852fb6a33b0b410be94cc288417565b96fef3f64/Cartopy-0.19.0.post1.tar.gz\n",
      "Requirement already satisfied: numpy>=1.13.3 in /usr/local/lib/python3.6/dist-packages (from Cartopy)\n",
      "Collecting pyshp>=2 (from Cartopy)\n",
      "  Downloading https://files.pythonhosted.org/packages/ea/e5/1b9ac1c85713c2acb5f08974b8f902a7dfeb532d0d1cb5cf579c947bed12/pyshp-2.2.0-py3-none-any.whl (44kB)\n",
      "\u001b[K    100% |################################| 51kB 214kB/s ta 0:00:01\n",
      "\u001b[?25hCollecting shapely>=1.5.6 (from Cartopy)\n",
      "  Downloading https://files.pythonhosted.org/packages/30/36/a0a03a29924479c28ed85ab0f21661a98783142fa0c2c75dfdef8c9fe228/Shapely-1.8.1.post1.tar.gz (198kB)\n",
      "\u001b[K    100% |################################| 204kB 2.5MB/s ta 0:00:01\n",
      "\u001b[?25hBuilding wheels for collected packages: Cartopy, shapely\n",
      "  Running setup.py bdist_wheel for Cartopy ... \u001b[?25ldone\n",
      "\u001b[?25h  Stored in directory: /root/.cache/pip/wheels/45/7f/3b/37879587817fd1bbbee7b47312e2401b4f542cccf2fbe9b4ee\n",
      "  Running setup.py bdist_wheel for shapely ... \u001b[?25ldone\n",
      "\u001b[?25h  Stored in directory: /root/.cache/pip/wheels/7b/3f/22/330e9e6ea6f58440b4018175fc6a3d189ddee62519a38850c7\n",
      "Successfully built Cartopy shapely\n",
      "Installing collected packages: pyshp, shapely, Cartopy\n",
      "Successfully installed Cartopy-0.0.0 pyshp-2.2.0 shapely-1.8.1.post1\n"
     ]
    }
   ],
   "source": [
    "!pip3 install Cartopy"
   ]
  },
  {
   "cell_type": "code",
   "execution_count": 4,
   "metadata": {},
   "outputs": [
    {
     "name": "stdout",
     "output_type": "stream",
     "text": [
      "Collecting Pillow==6.2.2\n",
      "  Downloading https://files.pythonhosted.org/packages/8a/fd/bbbc569f98f47813c50a116b539d97b3b17a86ac7a309f83b2022d26caf2/Pillow-6.2.2-cp36-cp36m-manylinux1_x86_64.whl (2.1MB)\n",
      "\u001b[K    100% |################################| 2.1MB 107kB/s ta 0:00:01\n",
      "\u001b[?25hCollecting matplotlib\n",
      "  Using cached https://files.pythonhosted.org/packages/09/03/b7b30fa81cb687d1178e085d0f01111ceaea3bf81f9330c937fb6f6c8ca0/matplotlib-3.3.4-cp36-cp36m-manylinux1_x86_64.whl\n",
      "Requirement already satisfied: shapely in /usr/local/lib/python3.6/dist-packages\n",
      "Requirement already satisfied: ipywidgets in /usr/local/lib/python3.6/dist-packages\n",
      "Requirement already satisfied: python-dateutil>=2.1 in /usr/local/lib/python3.6/dist-packages (from matplotlib)\n",
      "Requirement already satisfied: numpy>=1.15 in /usr/local/lib/python3.6/dist-packages (from matplotlib)\n",
      "Collecting kiwisolver>=1.0.1 (from matplotlib)\n",
      "  Using cached https://files.pythonhosted.org/packages/a7/1b/cbd8ae738719b5f41592a12057ef5442e2ed5f5cb5451f8fc7e9f8875a1a/kiwisolver-1.3.1-cp36-cp36m-manylinux1_x86_64.whl\n",
      "Requirement already satisfied: pyparsing!=2.0.4,!=2.1.2,!=2.1.6,>=2.0.3 in /usr/local/lib/python3.6/dist-packages (from matplotlib)\n",
      "Collecting cycler>=0.10 (from matplotlib)\n",
      "  Using cached https://files.pythonhosted.org/packages/5c/f9/695d6bedebd747e5eb0fe8fad57b72fdf25411273a39791cde838d5a8f51/cycler-0.11.0-py3-none-any.whl\n",
      "Requirement already satisfied: jupyterlab-widgets>=1.0.0; python_version >= \"3.6\" in /usr/local/lib/python3.6/dist-packages (from ipywidgets)\n",
      "Requirement already satisfied: ipython-genutils~=0.2.0 in /usr/local/lib/python3.6/dist-packages (from ipywidgets)\n",
      "Requirement already satisfied: ipykernel>=4.5.1 in /usr/local/lib/python3.6/dist-packages (from ipywidgets)\n",
      "Requirement already satisfied: traitlets>=4.3.1 in /usr/local/lib/python3.6/dist-packages (from ipywidgets)\n",
      "Requirement already satisfied: ipython>=4.0.0; python_version >= \"3.3\" in /usr/local/lib/python3.6/dist-packages (from ipywidgets)\n",
      "Requirement already satisfied: nbformat>=4.2.0 in /usr/local/lib/python3.6/dist-packages (from ipywidgets)\n",
      "Requirement already satisfied: widgetsnbextension~=3.6.0 in /usr/local/lib/python3.6/dist-packages (from ipywidgets)\n",
      "Requirement already satisfied: six>=1.5 in /usr/lib/python3/dist-packages (from python-dateutil>=2.1->matplotlib)\n",
      "Requirement already satisfied: jupyter-client in /usr/local/lib/python3.6/dist-packages (from ipykernel>=4.5.1->ipywidgets)\n",
      "Requirement already satisfied: tornado>=4.2 in /usr/local/lib/python3.6/dist-packages (from ipykernel>=4.5.1->ipywidgets)\n",
      "Requirement already satisfied: decorator in /usr/local/lib/python3.6/dist-packages (from traitlets>=4.3.1->ipywidgets)\n",
      "Requirement already satisfied: pygments in /usr/local/lib/python3.6/dist-packages (from ipython>=4.0.0; python_version >= \"3.3\"->ipywidgets)\n",
      "Requirement already satisfied: prompt-toolkit!=3.0.0,!=3.0.1,<3.1.0,>=2.0.0 in /usr/local/lib/python3.6/dist-packages (from ipython>=4.0.0; python_version >= \"3.3\"->ipywidgets)\n",
      "Requirement already satisfied: pickleshare in /usr/local/lib/python3.6/dist-packages (from ipython>=4.0.0; python_version >= \"3.3\"->ipywidgets)\n",
      "Requirement already satisfied: backcall in /usr/local/lib/python3.6/dist-packages (from ipython>=4.0.0; python_version >= \"3.3\"->ipywidgets)\n",
      "Requirement already satisfied: pexpect; sys_platform != \"win32\" in /usr/local/lib/python3.6/dist-packages (from ipython>=4.0.0; python_version >= \"3.3\"->ipywidgets)\n",
      "Requirement already satisfied: setuptools>=18.5 in /usr/lib/python3/dist-packages (from ipython>=4.0.0; python_version >= \"3.3\"->ipywidgets)\n",
      "Requirement already satisfied: jedi<=0.17.2,>=0.10 in /usr/local/lib/python3.6/dist-packages (from ipython>=4.0.0; python_version >= \"3.3\"->ipywidgets)\n",
      "Requirement already satisfied: jsonschema!=2.5.0,>=2.4 in /usr/local/lib/python3.6/dist-packages (from nbformat>=4.2.0->ipywidgets)\n",
      "Requirement already satisfied: jupyter-core in /usr/local/lib/python3.6/dist-packages (from nbformat>=4.2.0->ipywidgets)\n",
      "Requirement already satisfied: notebook>=4.4.1 in /usr/local/lib/python3.6/dist-packages (from widgetsnbextension~=3.6.0->ipywidgets)\n",
      "Requirement already satisfied: entrypoints in /usr/local/lib/python3.6/dist-packages (from jupyter-client->ipykernel>=4.5.1->ipywidgets)\n",
      "Requirement already satisfied: pyzmq>=13 in /usr/local/lib/python3.6/dist-packages (from jupyter-client->ipykernel>=4.5.1->ipywidgets)\n",
      "Requirement already satisfied: nest-asyncio>=1.5 in /usr/local/lib/python3.6/dist-packages (from jupyter-client->ipykernel>=4.5.1->ipywidgets)\n",
      "Requirement already satisfied: wcwidth in /usr/local/lib/python3.6/dist-packages (from prompt-toolkit!=3.0.0,!=3.0.1,<3.1.0,>=2.0.0->ipython>=4.0.0; python_version >= \"3.3\"->ipywidgets)\n",
      "Requirement already satisfied: ptyprocess>=0.5 in /usr/local/lib/python3.6/dist-packages (from pexpect; sys_platform != \"win32\"->ipython>=4.0.0; python_version >= \"3.3\"->ipywidgets)\n",
      "Requirement already satisfied: parso<0.8.0,>=0.7.0 in /usr/local/lib/python3.6/dist-packages (from jedi<=0.17.2,>=0.10->ipython>=4.0.0; python_version >= \"3.3\"->ipywidgets)\n",
      "Requirement already satisfied: attrs>=17.4.0 in /usr/local/lib/python3.6/dist-packages (from jsonschema!=2.5.0,>=2.4->nbformat>=4.2.0->ipywidgets)\n",
      "Requirement already satisfied: pyrsistent!=0.17.0,!=0.17.1,!=0.17.2,>=0.14.0 in /usr/local/lib/python3.6/dist-packages (from jsonschema!=2.5.0,>=2.4->nbformat>=4.2.0->ipywidgets)\n",
      "Requirement already satisfied: importlib-metadata; python_version < \"3.8\" in /usr/local/lib/python3.6/dist-packages (from jsonschema!=2.5.0,>=2.4->nbformat>=4.2.0->ipywidgets)\n",
      "Requirement already satisfied: jinja2 in /usr/local/lib/python3.6/dist-packages (from notebook>=4.4.1->widgetsnbextension~=3.6.0->ipywidgets)\n",
      "Requirement already satisfied: prometheus-client in /usr/local/lib/python3.6/dist-packages (from notebook>=4.4.1->widgetsnbextension~=3.6.0->ipywidgets)\n",
      "Requirement already satisfied: argon2-cffi in /usr/local/lib/python3.6/dist-packages (from notebook>=4.4.1->widgetsnbextension~=3.6.0->ipywidgets)\n",
      "Requirement already satisfied: Send2Trash>=1.8.0 in /usr/local/lib/python3.6/dist-packages (from notebook>=4.4.1->widgetsnbextension~=3.6.0->ipywidgets)\n",
      "Requirement already satisfied: terminado>=0.8.3 in /usr/local/lib/python3.6/dist-packages (from notebook>=4.4.1->widgetsnbextension~=3.6.0->ipywidgets)\n",
      "Requirement already satisfied: nbconvert>=5 in /usr/local/lib/python3.6/dist-packages (from notebook>=4.4.1->widgetsnbextension~=3.6.0->ipywidgets)\n",
      "Requirement already satisfied: zipp>=0.5 in /usr/local/lib/python3.6/dist-packages (from importlib-metadata; python_version < \"3.8\"->jsonschema!=2.5.0,>=2.4->nbformat>=4.2.0->ipywidgets)\n",
      "Requirement already satisfied: typing-extensions>=3.6.4; python_version < \"3.8\" in /usr/local/lib/python3.6/dist-packages (from importlib-metadata; python_version < \"3.8\"->jsonschema!=2.5.0,>=2.4->nbformat>=4.2.0->ipywidgets)\n",
      "Requirement already satisfied: MarkupSafe>=2.0 in /usr/local/lib/python3.6/dist-packages (from jinja2->notebook>=4.4.1->widgetsnbextension~=3.6.0->ipywidgets)\n",
      "Requirement already satisfied: argon2-cffi-bindings in /usr/local/lib/python3.6/dist-packages (from argon2-cffi->notebook>=4.4.1->widgetsnbextension~=3.6.0->ipywidgets)\n",
      "Requirement already satisfied: dataclasses; python_version < \"3.7\" in /usr/local/lib/python3.6/dist-packages (from argon2-cffi->notebook>=4.4.1->widgetsnbextension~=3.6.0->ipywidgets)\n",
      "Requirement already satisfied: pandocfilters>=1.4.1 in /usr/local/lib/python3.6/dist-packages (from nbconvert>=5->notebook>=4.4.1->widgetsnbextension~=3.6.0->ipywidgets)\n",
      "Requirement already satisfied: mistune<2,>=0.8.1 in /usr/local/lib/python3.6/dist-packages (from nbconvert>=5->notebook>=4.4.1->widgetsnbextension~=3.6.0->ipywidgets)\n",
      "Requirement already satisfied: defusedxml in /usr/local/lib/python3.6/dist-packages (from nbconvert>=5->notebook>=4.4.1->widgetsnbextension~=3.6.0->ipywidgets)\n",
      "Requirement already satisfied: nbclient<0.6.0,>=0.5.0 in /usr/local/lib/python3.6/dist-packages (from nbconvert>=5->notebook>=4.4.1->widgetsnbextension~=3.6.0->ipywidgets)\n",
      "Requirement already satisfied: testpath in /usr/local/lib/python3.6/dist-packages (from nbconvert>=5->notebook>=4.4.1->widgetsnbextension~=3.6.0->ipywidgets)\n",
      "Requirement already satisfied: jupyterlab-pygments in /usr/local/lib/python3.6/dist-packages (from nbconvert>=5->notebook>=4.4.1->widgetsnbextension~=3.6.0->ipywidgets)\n",
      "Requirement already satisfied: bleach in /usr/local/lib/python3.6/dist-packages (from nbconvert>=5->notebook>=4.4.1->widgetsnbextension~=3.6.0->ipywidgets)\n",
      "Requirement already satisfied: cffi>=1.0.1 in /usr/local/lib/python3.6/dist-packages (from argon2-cffi-bindings->argon2-cffi->notebook>=4.4.1->widgetsnbextension~=3.6.0->ipywidgets)\n",
      "Requirement already satisfied: async-generator; python_version < \"3.7\" in /usr/local/lib/python3.6/dist-packages (from nbclient<0.6.0,>=0.5.0->nbconvert>=5->notebook>=4.4.1->widgetsnbextension~=3.6.0->ipywidgets)\n",
      "Requirement already satisfied: webencodings in /usr/local/lib/python3.6/dist-packages (from bleach->nbconvert>=5->notebook>=4.4.1->widgetsnbextension~=3.6.0->ipywidgets)\n"
     ]
    },
    {
     "name": "stdout",
     "output_type": "stream",
     "text": [
      "Requirement already satisfied: packaging in /usr/local/lib/python3.6/dist-packages (from bleach->nbconvert>=5->notebook>=4.4.1->widgetsnbextension~=3.6.0->ipywidgets)\n",
      "Requirement already satisfied: pycparser in /usr/local/lib/python3.6/dist-packages (from cffi>=1.0.1->argon2-cffi-bindings->argon2-cffi->notebook>=4.4.1->widgetsnbextension~=3.6.0->ipywidgets)\n",
      "Installing collected packages: Pillow, kiwisolver, cycler, matplotlib\n",
      "Successfully installed Pillow-6.2.2 cycler-0.11.0 kiwisolver-1.3.1 matplotlib-3.3.4\n"
     ]
    }
   ],
   "source": [
    "!pip3 install Pillow==6.2.2 matplotlib shapely ipywidgets"
   ]
  },
  {
   "cell_type": "code",
   "execution_count": 8,
   "metadata": {},
   "outputs": [
    {
     "name": "stdout",
     "output_type": "stream",
     "text": [
      "Requirement already satisfied: pykdtree in /usr/local/lib/python3.6/dist-packages\n",
      "Collecting scipy\n",
      "  Downloading https://files.pythonhosted.org/packages/c8/89/63171228d5ced148f5ced50305c89e8576ffc695a90b58fe5bb602b910c2/scipy-1.5.4-cp36-cp36m-manylinux1_x86_64.whl (25.9MB)\n",
      "\u001b[K    100% |################################| 25.9MB 27kB/s eta 0:00:01   29% |#########                       | 7.6MB 190kB/s eta 0:01:37\n",
      "\u001b[?25hRequirement already satisfied: numpy in /usr/local/lib/python3.6/dist-packages (from pykdtree)\n",
      "Installing collected packages: scipy\n",
      "Successfully installed scipy-1.5.4\n"
     ]
    }
   ],
   "source": [
    "!pip3 install pykdtree scipy"
   ]
  },
  {
   "cell_type": "code",
   "execution_count": 2,
   "metadata": {},
   "outputs": [],
   "source": [
    "import sys\n",
    "sys.path.append('/usr/local/lib/python3/dist-packages')"
   ]
  },
  {
   "cell_type": "code",
   "execution_count": 3,
   "metadata": {},
   "outputs": [],
   "source": [
    "import pywraps2 as s2"
   ]
  },
  {
   "cell_type": "code",
   "execution_count": 4,
   "metadata": {},
   "outputs": [],
   "source": [
    "point = s2.S2Point()"
   ]
  },
  {
   "cell_type": "code",
   "execution_count": 5,
   "metadata": {},
   "outputs": [],
   "source": [
    "class Vector3d:\n",
    "    def __init__(self, x:int, y:int, z:int):\n",
    "        self.x = x\n",
    "        self.y = y\n",
    "        self.z = z"
   ]
  },
  {
   "cell_type": "code",
   "execution_count": 6,
   "metadata": {},
   "outputs": [],
   "source": [
    "p1 = s2.S2Point()\n",
    "p2 = s2.S2Point()\n",
    "p3 = s2.S2Point()\n",
    "\n",
    "p1.x = 9\n",
    "p1.y = 0\n",
    "p1.z = 8"
   ]
  },
  {
   "cell_type": "code",
   "execution_count": null,
   "metadata": {},
   "outputs": [],
   "source": [
    "loop = s2.S2Loop([p1, p2, p3])"
   ]
  },
  {
   "cell_type": "code",
   "execution_count": null,
   "metadata": {},
   "outputs": [],
   "source": []
  }
 ],
 "metadata": {
  "kernelspec": {
   "display_name": "Python 3",
   "language": "python",
   "name": "python3"
  },
  "language_info": {
   "codemirror_mode": {
    "name": "ipython",
    "version": 3
   },
   "file_extension": ".py",
   "mimetype": "text/x-python",
   "name": "python",
   "nbconvert_exporter": "python",
   "pygments_lexer": "ipython3",
   "version": "3.6.9"
  }
 },
 "nbformat": 4,
 "nbformat_minor": 2
}
